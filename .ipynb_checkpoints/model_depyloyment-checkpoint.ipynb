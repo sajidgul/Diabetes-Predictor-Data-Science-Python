{
 "cells": [
  {
   "cell_type": "markdown",
   "id": "944cb349-de88-441f-ad94-16ec9c17fadc",
   "metadata": {},
   "source": [
    "# Model Deployment"
   ]
  },
  {
   "cell_type": "markdown",
   "id": "e20c2451-f4a5-4f59-8884-879bdea39c42",
   "metadata": {},
   "source": [
    "We are focusing on deploying the model as a web application using Flask, a popular web framework for Python. This will involve creating an API endpoint that can accept input data, use the trained model to make predictions, and return the results."
   ]
  },
  {
   "cell_type": "markdown",
   "id": "02cd77ed-2ca8-46ca-993d-13fb8cdb6521",
   "metadata": {},
   "source": [
    "We are deploying the model as a web API using Flask."
   ]
  },
  {
   "cell_type": "code",
   "execution_count": 2,
   "id": "6e244a44-4c55-4729-8bd4-45cc4e989124",
   "metadata": {},
   "outputs": [
    {
     "name": "stdout",
     "output_type": "stream",
     "text": [
      " * Serving Flask app '__main__'\n",
      " * Debug mode: on\n"
     ]
    },
    {
     "name": "stderr",
     "output_type": "stream",
     "text": [
      "\u001b[31m\u001b[1mWARNING: This is a development server. Do not use it in a production deployment. Use a production WSGI server instead.\u001b[0m\n",
      " * Running on http://127.0.0.1:5000\n",
      "\u001b[33mPress CTRL+C to quit\u001b[0m\n",
      "127.0.0.1 - - [18/Jul/2024 01:48:23] \"POST /predict HTTP/1.1\" 200 -\n"
     ]
    }
   ],
   "source": [
    "from flask import Flask, request, jsonify\n",
    "import joblib\n",
    "import pandas as pd\n",
    "from threading import Thread\n",
    "\n",
    "app = Flask(__name__)\n",
    "\n",
    "# Load the trained model\n",
    "model = joblib.load('best_random_forest.pkl')\n",
    "\n",
    "# Define the features\n",
    "feature_names = ['Pregnancies', 'Glucose', 'BloodPressure', 'SkinThickness', 'Insulin', 'BMI', 'DiabetesPedigreeFunction', 'Age']\n",
    "\n",
    "@app.route('/predict', methods=['POST'])\n",
    "def predict():\n",
    "    data = request.get_json(force=True)\n",
    "    input_data = pd.DataFrame(data, index=[0])\n",
    "    input_data = input_data.reindex(columns=feature_names)\n",
    "    prediction = model.predict(input_data)\n",
    "    return jsonify({'prediction': int(prediction[0])})\n",
    "\n",
    "def run_app():\n",
    "    app.run(debug=True, use_reloader=False)\n",
    "\n",
    "thread = Thread(target=run_app)\n",
    "thread.start()"
   ]
  },
  {
   "cell_type": "code",
   "execution_count": 3,
   "id": "4af93eba-fe81-49ea-acc8-2c294f0cde34",
   "metadata": {},
   "outputs": [
    {
     "name": "stdout",
     "output_type": "stream",
     "text": [
      "{'prediction': 1}\n"
     ]
    }
   ],
   "source": [
    "import requests\n",
    "import json\n",
    "\n",
    "# Define the API endpoint\n",
    "url = 'http://127.0.0.1:5000/predict'\n",
    "\n",
    "# Define the input data for prediction\n",
    "data = {\n",
    "    'Pregnancies': 13,\n",
    "    'Glucose': 145,\n",
    "    'BloodPressure': 82,\n",
    "    'SkinThickness': 19,\n",
    "    'Insulin': 110,\n",
    "    'BMI': 22.2,\n",
    "    'DiabetesPedigreeFunction': 0.245,\n",
    "    'Age': 57\n",
    "}\n",
    "\n",
    "# Send the POST request\n",
    "response = requests.post(url, json=data)\n",
    "\n",
    "# Print the response from the server\n",
    "print(response.json())"
   ]
  }
 ],
 "metadata": {
  "kernelspec": {
   "display_name": "Python 3 (ipykernel)",
   "language": "python",
   "name": "python3"
  },
  "language_info": {
   "codemirror_mode": {
    "name": "ipython",
    "version": 3
   },
   "file_extension": ".py",
   "mimetype": "text/x-python",
   "name": "python",
   "nbconvert_exporter": "python",
   "pygments_lexer": "ipython3",
   "version": "3.12.3"
  }
 },
 "nbformat": 4,
 "nbformat_minor": 5
}
